{
 "cells": [
  {
   "cell_type": "code",
   "execution_count": null,
   "metadata": {},
   "outputs": [],
   "source": [
    "import itertools\n",
    "from pprint import pprint\n",
    "\n",
    "from sqlalchemy.exc import NoInspectionAvailable\n",
    "from sqlalchemy.inspection import inspect\n",
    "\n",
    "from app.models import BaseModel, Submission\n",
    "\n"
   ]
  },
  {
   "cell_type": "code",
   "execution_count": null,
   "metadata": {},
   "outputs": [],
   "source": [
    "m = inspect(Submission)\n",
    "m.relationships.keys()\n",
    "\n",
    "r_form = m.relationships\n",
    "for n in m.relationships.keys():\n",
    "    print(n)"
   ]
  },
  {
   "cell_type": "code",
   "execution_count": null,
   "metadata": {},
   "outputs": [],
   "source": [
    "pprint(r_form.__dict__)\n",
    "\n",
    "# TODO: polymorphic on"
   ]
  },
  {
   "cell_type": "code",
   "execution_count": null,
   "metadata": {},
   "outputs": [],
   "source": [
    "# outputs the inheritance tree\n",
    "def _r_print_class_tree(root_class, indent=0):\n",
    "    print(''.join(itertools.repeat(' ', indent)) + str(root_class.__name__))\n",
    "    \n",
    "    for child_class in root_class.__subclasses__():\n",
    "        _r_print_class_tree(child_class, indent=indent + 1)\n",
    "        \n",
    "_r_print_class_tree(BaseModel)"
   ]
  },
  {
   "cell_type": "code",
   "execution_count": null,
   "metadata": {},
   "outputs": [],
   "source": [
    "the_graph = {}\n",
    "\n",
    "def get_vertex_key(cls_orm_model):\n",
    "    return '{}.{}'.format(cls_orm_model.__module__, cls_orm_model.__name__)\n",
    "\n",
    "def _r_extract_hierarchy(cls_orm_model, graph:dict):\n",
    "    # extract the current vertex\n",
    "    vertex = {\n",
    "        'key': get_vertex_key(cls_orm_model),\n",
    "        'name': cls_orm_model.__name__,\n",
    "        'module': cls_orm_model.__module__,\n",
    "        'relations': [], \n",
    "    }\n",
    "    graph[vertex['key']] = vertex\n",
    "    \n",
    "    # add edges for relationships\n",
    "    try:\n",
    "        mapper = inspect(cls_orm_model)\n",
    "    except NoInspectionAvailable:\n",
    "        mapper = None\n",
    "        \n",
    "    if mapper:\n",
    "        for relation_name in mapper.relationships.keys():\n",
    "            relation = mapper.relationships[relation_name]\n",
    "            vertex['relations'].append({\n",
    "                'source_name': relation_name,\n",
    "                'source_columns': [c.name for c in relation.local_columns],\n",
    "                'is_self_referential': relation._is_self_referential,\n",
    "                'target': get_vertex_key(relation.argument),\n",
    "                'taget_columns': [c.name for c in relation.remote_side],\n",
    "                'back_reference_name': relation.backref,\n",
    "                'type': relation.direction.name\n",
    "            })\n",
    "    \n",
    "    for child_class in cls_orm_model.__subclasses__():\n",
    "        vertex['relations'].append({\n",
    "            'target': get_vertex_key(child_class),\n",
    "            'type': 'inheritance'\n",
    "        })\n",
    "        \n",
    "        _r_extract_hierarchy(child_class, graph)\n",
    "\n",
    "    \n",
    "        \n",
    "_r_extract_hierarchy(BaseModel, the_graph)\n",
    "pprint(the_graph)"
   ]
  },
  {
   "cell_type": "code",
   "execution_count": null,
   "metadata": {
    "collapsed": true
   },
   "outputs": [],
   "source": []
  }
 ],
 "metadata": {
  "kernelspec": {
   "display_name": "Python 3",
   "language": "python",
   "name": "python3"
  },
  "language_info": {
   "codemirror_mode": {
    "name": "ipython",
    "version": 3
   },
   "file_extension": ".py",
   "mimetype": "text/x-python",
   "name": "python",
   "nbconvert_exporter": "python",
   "pygments_lexer": "ipython3",
   "version": "3.6.0"
  }
 },
 "nbformat": 4,
 "nbformat_minor": 2
}
