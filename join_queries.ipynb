{
 "cells": [
  {
   "cell_type": "markdown",
   "metadata": {},
   "source": [
    "# Optimizing ORM Queries\n",
    "\n",
    "## Introduction\n",
    "\n",
    "This notebook provides some background on the various extractor queries.  These queries are on the `Submission` model which has foreign key relationships on the `User` and `Form`.  For data extraction, we need data from all 3 models, but not necessarily all their properties at once."
   ]
  },
  {
   "cell_type": "code",
   "execution_count": 1,
   "metadata": {
    "collapsed": true
   },
   "outputs": [],
   "source": [
    "import sys\n",
    "\n",
    "sys.path.append('./src')"
   ]
  },
  {
   "cell_type": "code",
   "execution_count": 2,
   "metadata": {
    "collapsed": true
   },
   "outputs": [],
   "source": [
    "import sqlalchemy as sa\n",
    "import sqlalchemy.orm as sa_orm\n",
    "import testing.postgresql\n",
    "\n",
    "from app import models\n",
    "from app.util import sqldebug"
   ]
  },
  {
   "cell_type": "code",
   "execution_count": 3,
   "metadata": {
    "collapsed": true
   },
   "outputs": [],
   "source": [
    "# open a test session\n",
    "postgresql = testing.postgresql.Postgresql(base_dir='.test_db')\n",
    "db_engine = sa.create_engine(postgresql.url())\n",
    "models.init_database(db_engine)\n",
    "sessionmaker = sa_orm.sessionmaker(db_engine)\n",
    "session = sessionmaker()"
   ]
  },
  {
   "cell_type": "markdown",
   "metadata": {},
   "source": [
    "## Default behavior ORM Queries\n",
    "\n",
    "If you query the `Submission` model without any other options, it will use default SQLAlchemy behavior.  SQLAlchemy lazy-loads related models by default (unless otherwise defined in the model).\n",
    "\n",
    "As such, if you render the query to SQL, you'll see that no joins occur.  The related models are loaded only when access (lazily) using separate SELECT queries. "
   ]
  },
  {
   "cell_type": "code",
   "execution_count": 4,
   "metadata": {},
   "outputs": [
    {
     "name": "stdout",
     "output_type": "stream",
     "text": [
      "SELECT clover_app.form_responses.id AS clover_app_form_responses_id,\n",
      "       clover_app.form_responses.form_id AS clover_app_form_responses_form_id,\n",
      "       clover_app.form_responses.user_id AS clover_app_form_responses_user_id,\n",
      "       clover_app.form_responses.responses AS clover_app_form_responses_responses,\n",
      "       clover_app.form_responses.date_created AS clover_app_form_responses_date_created\n",
      "FROM clover_app.form_responses\n"
     ]
    }
   ],
   "source": [
    "simple_query = session.query(models.Submission)\n",
    "sqldebug.pp_query(simple_query)"
   ]
  },
  {
   "cell_type": "markdown",
   "metadata": {},
   "source": [
    "## Joined Loading\n",
    "\n",
    "SQLAlchemy provides the ability to specify a [\"joined load\" option](http://docs.sqlalchemy.org/en/rel_1_1/orm/tutorial.html#joined-load).  Passing a [orm.joinedload()](http://docs.sqlalchemy.org/en/rel_1_1/orm/loading_relationships.html#sqlalchemy.orm.joinedload) to [Query.options()](http://docs.sqlalchemy.org/en/rel_1_1/orm/query.html#sqlalchemy.orm.query.Query.options) will emit a left join operation by default.  So you need to set `innerjoin=True` if required.  Data can then be eager-loaded.\n",
    "\n",
    "As an example, we will extend our query to only \"join-load\" the `User` model.  Subsequent accesses to the `user` property in a `Submission` instance will not emit `SELECT` queries.  But note that joined-loads will load all columns in the related model.  This is fine for the `User` model because it has relatively few columns which are expected to be short strings (first and last name).\n",
    "\n",
    "In the example below, we don't do this for `models.Form`.  This is conscious decision as the `Form.schema` column is a JSON field which, relative to other columns, can be quite large.  SQLAlchemy will continue to use its default lazy loading behavior and load the form using separate `SELECT` queries when `form` property of a `Submission` instance.  This may actually be fine for relatively few forms because their schemas will remain in the `Session` cache after loading and thus potentially avoiding repeated `SELECT` queries."
   ]
  },
  {
   "cell_type": "code",
   "execution_count": 5,
   "metadata": {},
   "outputs": [
    {
     "name": "stdout",
     "output_type": "stream",
     "text": [
      "SELECT clover_app.form_responses.id AS clover_app_form_responses_id,\n",
      "       clover_app.form_responses.form_id AS clover_app_form_responses_form_id,\n",
      "       clover_app.form_responses.user_id AS clover_app_form_responses_user_id,\n",
      "       clover_app.form_responses.responses AS clover_app_form_responses_responses,\n",
      "       clover_app.form_responses.date_created AS clover_app_form_responses_date_created,\n",
      "       users_1.id AS users_1_id,\n",
      "       users_1.given_name AS users_1_given_name,\n",
      "       users_1.family_name AS users_1_family_name\n",
      "FROM clover_app.form_responses\n",
      "JOIN clover_app.users AS users_1 ON users_1.id = clover_app.form_responses.user_id\n"
     ]
    }
   ],
   "source": [
    "current_joined_query = session.query(models.Submission)\\\n",
    "    .options(\n",
    "        sa_orm.joinedload(models.Submission.user, innerjoin=True)\n",
    "    )\n",
    "sqldebug.pp_query(current_joined_query)"
   ]
  },
  {
   "cell_type": "markdown",
   "metadata": {},
   "source": [
    "## Explicit Join and Eager Load\n",
    "\n",
    "It may be desirable to force data extraction to one single `SELECT` query.  This does require a bit more code but is possible using [explicit joins and eager loads](http://docs.sqlalchemy.org/en/rel_1_1/orm/tutorial.html#explicit-join-eagerload).  This provides full control and avoids relying on lazy-loading or `Session` cache behavior.\n",
    "\n",
    "Our ETL transformation only requires the `name` column from the `Form` model.  You can eager-load related tables more precisely as follows:\n",
    "* Chain call [Query.join()](http://docs.sqlalchemy.org/en/rel_1_1/orm/query.html#sqlalchemy.orm.query.Query.join) for each *model* you wish to eager load via a `INNER JOIN`\n",
    "* Pass to to [Query.options()](http://docs.sqlalchemy.org/en/rel_1_1/orm/query.html#sqlalchemy.orm.query.Query.options) a [orm.contains_eager()](http://docs.sqlalchemy.org/en/rel_1_1/orm/loading_relationships.html#sqlalchemy.orm.contains_eager) for each *related property* you wish to eager-load\n",
    "* To restrict to only a subset of columns, extend your eager option by chaining to [orm.load_only()](http://docs.sqlalchemy.org/en/rel_1_1/orm/loading_columns.html?highlight=load_only#sqlalchemy.orm.load_only) with the column attribute string you want to restrict it to.\n",
    "\n",
    "In the example below, we show explicit joins for both the `user` and `form` relations.  However, we restrict eager loading the form to only the `name` property.\n",
    "\n",
    "The resulting query gives us precise control.  Note that the primary keys (`id` columns) are still loaded as part of the join which is default behavior in SQLAlchemy.  This is acceptable as our primary aim was to avoid loading the largest column (`schema`)."
   ]
  },
  {
   "cell_type": "code",
   "execution_count": 48,
   "metadata": {},
   "outputs": [
    {
     "name": "stdout",
     "output_type": "stream",
     "text": [
      "SELECT clover_app.form_schemas.id AS clover_app_form_schemas_id,\n",
      "       clover_app.form_schemas.name AS clover_app_form_schemas_name,\n",
      "       clover_app.users.id AS clover_app_users_id,\n",
      "       clover_app.users.given_name AS clover_app_users_given_name,\n",
      "       clover_app.users.family_name AS clover_app_users_family_name,\n",
      "       clover_app.form_responses.id AS clover_app_form_responses_id,\n",
      "       clover_app.form_responses.form_id AS clover_app_form_responses_form_id,\n",
      "       clover_app.form_responses.user_id AS clover_app_form_responses_user_id,\n",
      "       clover_app.form_responses.responses AS clover_app_form_responses_responses,\n",
      "       clover_app.form_responses.date_created AS clover_app_form_responses_date_created\n",
      "FROM clover_app.form_responses\n",
      "JOIN clover_app.users ON clover_app.users.id = clover_app.form_responses.user_id\n",
      "JOIN clover_app.form_schemas ON clover_app.form_schemas.id = clover_app.form_responses.form_id\n"
     ]
    }
   ],
   "source": [
    "new_joined_query = session.query(models.Submission)\\\n",
    "    .join(models.User)\\\n",
    "    .join(models.Form)\\\n",
    "    .options(\n",
    "        sa_orm.contains_eager(models.Submission.user),\n",
    "        sa_orm.contains_eager(models.Submission.form).load_only('name'),\n",
    "    )\n",
    "    \n",
    "sqldebug.pp_query(new_joined_query)"
   ]
  },
  {
   "cell_type": "code",
   "execution_count": null,
   "metadata": {
    "collapsed": true
   },
   "outputs": [],
   "source": []
  }
 ],
 "metadata": {
  "kernelspec": {
   "display_name": "Python 3",
   "language": "python",
   "name": "python3"
  },
  "language_info": {
   "codemirror_mode": {
    "name": "ipython",
    "version": 3
   },
   "file_extension": ".py",
   "mimetype": "text/x-python",
   "name": "python",
   "nbconvert_exporter": "python",
   "pygments_lexer": "ipython3",
   "version": "3.5.3"
  }
 },
 "nbformat": 4,
 "nbformat_minor": 2
}
