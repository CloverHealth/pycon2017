{
 "cells": [
  {
   "cell_type": "markdown",
   "metadata": {},
   "source": [
    "# PyCon 2017 ETL Workshop\n",
    "\n",
    "## Table of Contents\n",
    "\n",
    "* Test Optimizations\n",
    "* References"
   ]
  },
  {
   "cell_type": "code",
   "execution_count": 11,
   "metadata": {},
   "outputs": [],
   "source": [
    "import os\n",
    "import subprocess\n",
    "import shutil\n",
    "import sys\n",
    "\n",
    "ROOT_FOLDER = os.getcwd()\n",
    "sys.path.append(os.path.join(ROOT_FOLDER, 'src'))"
   ]
  },
  {
   "cell_type": "markdown",
   "metadata": {},
   "source": [
    "### Test Optimizations\n",
    "\n",
    "Development turnaround can be shortened by optimizing repeated regression suite runs. In particular, You can avoid recreating a 'clean database' with every individual test case.\n",
    "\n",
    "For most Always run all your SQLAlchemy tests inside a transaction:\n",
    "* Provide a session fixture (SQLAlchemy `Session` instance) which is always rolled back.\n",
    "* Using `.flush()` rather than `.commit()` to \"persist\" write operations.\n",
    "\n",
    "This speeds up individual tests.  However, using `.flush()` should not be employed if your test actually needs to verify transaction rollback behavior.\n",
    "\n",
    "One of the slowest steps is the test database setup.  By introducing a `--keepdb` option to our `pytest` suite, we can force a teamplate test database to be reused by:\n",
    "* Setting the `base_dir` kwarg to a fixed path in the `testing.postgresql.Postgresql()` constructor.  \n",
    "* Preventing re-initialization of the Postgres extensions, schemas and tables if the test database did not previously exists\n",
    "\n",
    "This greatly reduces fixture setup time and allows us to immediately start running tests.  However, it is the responsibility of the developer to remove the test database if the model schema changes or a test accidentally persists a change to the database."
   ]
  },
  {
   "cell_type": "code",
   "execution_count": 19,
   "metadata": {},
   "outputs": [
    {
     "name": "stdout",
     "output_type": "stream",
     "text": [
      "1 loop, best of 3: 2.73 s per loop\n"
     ]
    }
   ],
   "source": [
    "# no optimizations\n",
    "%timeit -n1 -r3 subprocess.call('pytest src/', shell=True)"
   ]
  },
  {
   "cell_type": "code",
   "execution_count": 21,
   "metadata": {},
   "outputs": [
    {
     "name": "stdout",
     "output_type": "stream",
     "text": [
      "1 loop, best of 3: 895 ms per loop\n"
     ]
    }
   ],
   "source": [
    "# with optimizations\n",
    "import os\n",
    "from src.tests.constants import KEEPDB_PATH\n",
    "\n",
    "# ensure the first run creates the retained folder\n",
    "testdb_path = os.path.join(ROOT_FOLDER, KEEPDB_PATH)\n",
    "if os.path.exists(testdb_path):\n",
    "    shutil.rmtree(testdb_path)\n",
    "\n",
    "%timeit -n1 -r3 subprocess.call('pytest --keepdb src/', shell=True)"
   ]
  },
  {
   "cell_type": "markdown",
   "metadata": {},
   "source": [
    "## References\n",
    "\n",
    "* [pytest](https://docs.pytest.org/en/latest/contents.html)\n",
    "* [testing.postgres](https://github.com/tk0miya/testing.postgresql)\n",
    "* [Jupyter Notebook](http://jupyter.org/)\n",
    "    * [Cell Magics](https://ipython.org/ipython-doc/3/interactive/magics.html#cell-magics)"
   ]
  }
 ],
 "metadata": {
  "kernelspec": {
   "display_name": "Python 3",
   "language": "python",
   "name": "python3"
  },
  "language_info": {
   "codemirror_mode": {
    "name": "ipython",
    "version": 3
   },
   "file_extension": ".py",
   "mimetype": "text/x-python",
   "name": "python",
   "nbconvert_exporter": "python",
   "pygments_lexer": "ipython3",
   "version": "3.5.3"
  }
 },
 "nbformat": 4,
 "nbformat_minor": 2
}
