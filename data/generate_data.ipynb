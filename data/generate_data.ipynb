{
 "cells": [
  {
   "cell_type": "code",
   "execution_count": 1,
   "metadata": {
    "collapsed": false
   },
   "outputs": [],
   "source": [
    "import datetime\n",
    "import itertools\n",
    "import random\n",
    "\n",
    "import names\n",
    "import numpy as np\n",
    "import pandas as pd\n",
    "import sqlalchemy as sa\n",
    "from sqlalchemy import create_engine\n",
    "\n",
    "\n",
    "connection_string = 'postgres://localhost:5432/VincentLa'\n",
    "engine = create_engine(connection_string)\n",
    "\n",
    "SCHEMA_NAME = 'tutorial_data_ingest'"
   ]
  },
  {
   "cell_type": "markdown",
   "metadata": {},
   "source": [
    "# Generating Data for Examples of Unit Testing SQL Queries"
   ]
  },
  {
   "cell_type": "markdown",
   "metadata": {},
   "source": [
    "At Clover, our analytics team will often write \"unit\" tests for SQL queries that contribute directly to our data pipeline. As an example, there are a couple queries in `/queries/schema/tutorial_analytics`.\n",
    "1. current_scores.sql\n",
    "2. doctor_dashboard.sql\n",
    "\n",
    "We use `pytest` to test these SQL files. See `/test_suite/test_current_scores.py` and `/test_suite/test_doctor_dashboard.py` as examples of unit tests we write to test SQL files."
   ]
  },
  {
   "cell_type": "code",
   "execution_count": 2,
   "metadata": {
    "collapsed": false
   },
   "outputs": [],
   "source": [
    "def create_patients():\n",
    "    \"\"\"Creating a table of patient and ids\"\"\"\n",
    "    ids = list(range(1, 11))\n",
    "    doctor_ids = ['dr' + str((i % 2) + 1) for i in ids]\n",
    "    names = ['john', 'jeremy', 'mark', 'leslie', 'sam', 'matt', 'judy', 'parth', 'kevin', 'joshua']\n",
    "\n",
    "    patients = {\n",
    "        'patient_id': ids,\n",
    "        'doctor_id': doctor_ids,\n",
    "        'name': names\n",
    "    }\n",
    "\n",
    "    pd.DataFrame(patients).to_sql('patients', engine, schema=SCHEMA_NAME, index=False, if_exists='replace')"
   ]
  },
  {
   "cell_type": "code",
   "execution_count": 3,
   "metadata": {
    "collapsed": false
   },
   "outputs": [],
   "source": [
    "def create_risk_assessment_scores():\n",
    "    \"\"\"Creating a table of risk_assessments and scores\"\"\"\n",
    "    scores = [\n",
    "        (1, 'psychological', 100, datetime.date(2017, 1, 5)),\n",
    "        (2, 'psychological', 96, datetime.date(2017, 1, 5)),\n",
    "        (3, 'psychological', 89, datetime.date(2017, 1, 5)),\n",
    "        (4, 'psychological', 75, datetime.date(2017, 1, 5)),\n",
    "        (5, 'psychological', 81, datetime.date(2017, 1, 5)),\n",
    "        (1, 'psychological', 90, datetime.date(2017, 1, 12)),\n",
    "        (1, 'psychological', 92, datetime.date(2017, 1, 12)),\n",
    "        (3, 'psychological', 94, datetime.date(2017, 1, 13)),\n",
    "        (4, 'psychological', 85, datetime.date(2017, 1, 15)),\n",
    "        (6, 'physical', 92, datetime.date(2017, 1, 7)),\n",
    "        (7, 'physical', 85, datetime.date(2017, 1, 7)),\n",
    "        (8, 'physical', 72, datetime.date(2017, 1, 7)),\n",
    "        (9, 'physical', 73, datetime.date(2017, 1, 7)),\n",
    "        (6, 'physical', 93, datetime.date(2017, 1, 8)),\n",
    "        (6, 'physical', 94, datetime.date(2017, 1, 9)),\n",
    "        (7, 'physical', 82, datetime.date(2017, 1, 15)),\n",
    "        (8, 'physical', 75, datetime.date(2017, 1, 16)),\n",
    "    ]\n",
    "    labels = ['patient_id', 'assessment_type', 'risk_score', 'date_modified']\n",
    "    pd.DataFrame.from_records(scores, columns=labels)\\\n",
    "        .to_sql('risk_assessments', engine, schema=SCHEMA_NAME, index=False, if_exists='replace')"
   ]
  },
  {
   "cell_type": "code",
   "execution_count": 4,
   "metadata": {
    "collapsed": false
   },
   "outputs": [],
   "source": [
    "def create_doctors():\n",
    "    \"\"\"Creating a table of doctors and ids\"\"\"\n",
    "    doctor_ids = list(range(1, 3))\n",
    "    doctor_ids = ['dr' + str(s) for s in doctor_ids]\n",
    "\n",
    "    names = ['Dr. Smith', 'Dr. Smith']\n",
    "\n",
    "    doctors = {\n",
    "        'doctor_id': doctor_ids,\n",
    "        'names': names,\n",
    "    }\n",
    "\n",
    "    pd.DataFrame(doctors).to_sql('doctors', engine, schema=SCHEMA_NAME, index=False, if_exists='replace')"
   ]
  },
  {
   "cell_type": "code",
   "execution_count": 5,
   "metadata": {
    "collapsed": false
   },
   "outputs": [],
   "source": [
    "create_doctors()\n",
    "create_patients()\n",
    "create_risk_assessment_scores()"
   ]
  },
  {
   "cell_type": "markdown",
   "metadata": {
    "collapsed": true
   },
   "source": [
    "# Generate Data for Anomaly Detection Example"
   ]
  },
  {
   "cell_type": "markdown",
   "metadata": {
    "collapsed": true
   },
   "source": [
    "At Clover, one of the things we're really interested in is finding anomalies among provider behaviors. This section generates the data for a case study that we will present. In particular we will generate some claims data to look at."
   ]
  },
  {
   "cell_type": "markdown",
   "metadata": {},
   "source": [
    "Next, need to alter how we generate random procedure codes so that some doctors really are more likely to upcode"
   ]
  },
  {
   "cell_type": "code",
   "execution_count": 6,
   "metadata": {
    "collapsed": true
   },
   "outputs": [],
   "source": [
    "def draw_random_int():\n",
    "    number = np.random.normal(100, 30)\n",
    "    if number < 1:\n",
    "        return 1\n",
    "    else:\n",
    "        return int(round(number))"
   ]
  },
  {
   "cell_type": "code",
   "execution_count": 7,
   "metadata": {
    "collapsed": false
   },
   "outputs": [],
   "source": [
    "upcoders = [0.05, 0.05, 0.15, 0.15, 0.6]\n",
    "typicalcoders = [0.05, 0.1, 0.4, 0.4, 0.05]\n",
    "\n",
    "drs = ['Dr. ' + names.get_full_name() for i in range(0, 1000)]\n",
    "num_of_encounters = [draw_random_int() for i in range(0, 1000)]\n",
    "personid = [random.randint(1, 25000) for i in range(0, sum(num_of_encounters))]\n",
    "procedure_map = {\n",
    "    1: 'Evaluation and Management, Lowest Intensity',\n",
    "    2: 'Evaluation and Management, Second Lowest Intensity',\n",
    "    3: 'Evaluation and Management, Medium Intensity',\n",
    "    4: 'Evaluation and Management, High Intensity',\n",
    "    5: 'Evaluation and Management, Highest Intensity',\n",
    "}\n",
    "\n",
    "doctors = list(itertools.chain(*[[drs[i]] * num_of_encounters[i] for i in range(0, len(num_of_encounters))]))\n",
    "\n",
    "d = {\n",
    "    'servicing_provider_npi': doctors,\n",
    "    'personid': personid,\n",
    "}\n",
    "df = pd.DataFrame(d)\n",
    "\n",
    "procedure_codes = []\n",
    "for i in df.index:\n",
    "    if drs.index(df.loc[i, 'servicing_provider_npi']) % 10 < 2:\n",
    "        procedure_codes.append(np.random.choice(np.arange(1, 6), p=upcoders))\n",
    "    else:\n",
    "        procedure_codes.append(np.random.choice(np.arange(1, 6), p=typicalcoders))\n",
    "procedure_codes = np.asarray(procedure_codes)\n",
    "\n",
    "df['procedure_code'] = procedure_codes\n",
    "df['procedure_name'] = df['procedure_code'].map(procedure_map)"
   ]
  },
  {
   "cell_type": "code",
   "execution_count": 8,
   "metadata": {
    "collapsed": false
   },
   "outputs": [
    {
     "data": {
      "text/html": [
       "<div>\n",
       "<table border=\"1\" class=\"dataframe\">\n",
       "  <thead>\n",
       "    <tr style=\"text-align: right;\">\n",
       "      <th></th>\n",
       "      <th>personid</th>\n",
       "      <th>servicing_provider_npi</th>\n",
       "      <th>procedure_code</th>\n",
       "      <th>procedure_name</th>\n",
       "    </tr>\n",
       "  </thead>\n",
       "  <tbody>\n",
       "    <tr>\n",
       "      <th>0</th>\n",
       "      <td>11324</td>\n",
       "      <td>Dr. Darlene Allen</td>\n",
       "      <td>5</td>\n",
       "      <td>Evaluation and Management, Highest Intensity</td>\n",
       "    </tr>\n",
       "    <tr>\n",
       "      <th>1</th>\n",
       "      <td>1633</td>\n",
       "      <td>Dr. Darlene Allen</td>\n",
       "      <td>5</td>\n",
       "      <td>Evaluation and Management, Highest Intensity</td>\n",
       "    </tr>\n",
       "    <tr>\n",
       "      <th>2</th>\n",
       "      <td>18100</td>\n",
       "      <td>Dr. Darlene Allen</td>\n",
       "      <td>4</td>\n",
       "      <td>Evaluation and Management, High Intensity</td>\n",
       "    </tr>\n",
       "    <tr>\n",
       "      <th>3</th>\n",
       "      <td>19251</td>\n",
       "      <td>Dr. Darlene Allen</td>\n",
       "      <td>5</td>\n",
       "      <td>Evaluation and Management, Highest Intensity</td>\n",
       "    </tr>\n",
       "    <tr>\n",
       "      <th>4</th>\n",
       "      <td>16174</td>\n",
       "      <td>Dr. Darlene Allen</td>\n",
       "      <td>5</td>\n",
       "      <td>Evaluation and Management, Highest Intensity</td>\n",
       "    </tr>\n",
       "  </tbody>\n",
       "</table>\n",
       "</div>"
      ],
      "text/plain": [
       "   personid servicing_provider_npi  procedure_code  \\\n",
       "0     11324      Dr. Darlene Allen               5   \n",
       "1      1633      Dr. Darlene Allen               5   \n",
       "2     18100      Dr. Darlene Allen               4   \n",
       "3     19251      Dr. Darlene Allen               5   \n",
       "4     16174      Dr. Darlene Allen               5   \n",
       "\n",
       "                                 procedure_name  \n",
       "0  Evaluation and Management, Highest Intensity  \n",
       "1  Evaluation and Management, Highest Intensity  \n",
       "2     Evaluation and Management, High Intensity  \n",
       "3  Evaluation and Management, Highest Intensity  \n",
       "4  Evaluation and Management, Highest Intensity  "
      ]
     },
     "execution_count": 8,
     "metadata": {},
     "output_type": "execute_result"
    }
   ],
   "source": [
    "df.head()"
   ]
  },
  {
   "cell_type": "code",
   "execution_count": 9,
   "metadata": {
    "collapsed": false
   },
   "outputs": [],
   "source": [
    "df.to_sql('claim_lines', engine, schema=SCHEMA_NAME, index=False, if_exists='replace')"
   ]
  }
 ],
 "metadata": {
  "kernelspec": {
   "display_name": "Python 3",
   "language": "python",
   "name": "python3"
  },
  "language_info": {
   "codemirror_mode": {
    "name": "ipython",
    "version": 3
   },
   "file_extension": ".py",
   "mimetype": "text/x-python",
   "name": "python",
   "nbconvert_exporter": "python",
   "pygments_lexer": "ipython3",
   "version": "3.5.1"
  }
 },
 "nbformat": 4,
 "nbformat_minor": 0
}
